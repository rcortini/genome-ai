{
 "cells": [
  {
   "cell_type": "code",
   "execution_count": null,
   "metadata": {},
   "outputs": [],
   "source": [
    "from tensorflow.keras.models import Sequential\n",
    "from tensorflow.keras.layers import Dense, Embedding\n",
    "from tensorflow.keras.layers import LSTM\n",
    "from tensorflow.keras.utils import to_categorical\n",
    "from keras.callbacks import ModelCheckpoint\n",
    "import numpy as np\n",
    "import matplotlib.pyplot as plt\n",
    "from matplotlib.lines import Line2D"
   ]
  },
  {
   "cell_type": "code",
   "execution_count": null,
   "metadata": {},
   "outputs": [],
   "source": [
    "base_to_number = {\n",
    "    'A' : 0,\n",
    "    'T' : 1,\n",
    "    'C' : 2,\n",
    "    'G' : 3\n",
    "}\n",
    "\n",
    "number_to_base = {v : k for k,v in base_to_number.items()}"
   ]
  },
  {
   "cell_type": "code",
   "execution_count": null,
   "metadata": {},
   "outputs": [],
   "source": [
    "def sequence_decode(num, mapping, base=4, length=None) :\n",
    "    N = num\n",
    "    i = 0\n",
    "    seq = ''\n",
    "    while N>0 :\n",
    "        ai = N%base**(i+1)//base**i\n",
    "        N -= ai*base**i\n",
    "        i+=1\n",
    "        seq += mapping[ai]\n",
    "    if length is not None :\n",
    "        seq += mapping[0]*(length-len(seq))\n",
    "    return seq[::-1]"
   ]
  },
  {
   "cell_type": "code",
   "execution_count": null,
   "metadata": {},
   "outputs": [],
   "source": [
    "def sequence_encoder(sequence, mapping) :\n",
    "    l = len(sequence)\n",
    "    return np.sum([4**(l-i-1)*mapping[sequence[i]] for i in range(l)])"
   ]
  },
  {
   "cell_type": "markdown",
   "metadata": {},
   "source": [
    "# 2019-02-08 Training the network\n",
    "\n",
    "I extracted random sequences from the Drosophila, Mouse, and Human genomes. I want to see whether an AI is capable of distinguishing between these genomes by reading \"sentences\" of \"words\" of nucleotides.\n",
    "\n",
    "First, let's load the data set into a structure that can be used for training the network."
   ]
  },
  {
   "cell_type": "code",
   "execution_count": null,
   "metadata": {},
   "outputs": [],
   "source": [
    "def shuffle_data(data, targets) :\n",
    "    \"\"\"\n",
    "    Takes a nsentences x nwords \"data\" array and a nsentences-long \"targets\"\n",
    "    array and performs a random permutation of the order, preserving the correspondence\n",
    "    between the row index of the data and the row index of the targets.\n",
    "    \"\"\"\n",
    "    N = data.shape[0]\n",
    "    perm = np.random.choice(N, size=N, replace=False)\n",
    "    return data[perm], targets[perm]\n",
    "    \n",
    "def prepare_data(genome_datasets, labels, nwords, train_n, valid_n, test_n) :\n",
    "    \n",
    "    # init\n",
    "    N = len(labels)\n",
    "    train = np.zeros((train_n*N, nwords), dtype=np.int64)\n",
    "    valid = np.zeros((valid_n*N, nwords), dtype=np.int64)\n",
    "    test = np.zeros((test_n*N, nwords), dtype=np.int64)\n",
    "    train_targets = np.zeros(train_n*N, dtype=np.int64)\n",
    "    valid_targets = np.zeros(valid_n*N, dtype=np.int64)\n",
    "    test_targets = np.zeros(test_n*N, dtype=np.int64)\n",
    "    \n",
    "    # read the datasets\n",
    "    i = 0\n",
    "    for genome_dataset, label in zip(genome_datasets, labels) :\n",
    "        \n",
    "        # load the \"genome sentences\" from the dataset supplied\n",
    "        sentences = np.loadtxt(genome_dataset, dtype=np.int64)\n",
    "        \n",
    "        # prepare the train, valid, and test data\n",
    "        train[i*train_n:(i+1)*train_n, :] = sentences[:train_n, :]\n",
    "        valid[i*valid_n:(i+1)*valid_n, :] = sentences[train_n:train_n+valid_n, :]\n",
    "        test[i*test_n:(i+1)*test_n, :] = sentences[train_n+valid_n:train_n+valid_n+test_n, :]\n",
    "        \n",
    "        # prepare the targets from the labels\n",
    "        train_targets[i*train_n:(i+1)*train_n] = label\n",
    "        valid_targets[i*valid_n:(i+1)*valid_n] = label\n",
    "        test_targets[i*test_n:(i+1)*test_n] = label\n",
    "        \n",
    "        # increment\n",
    "        i+=1\n",
    "        \n",
    "    # perform a random shuffling of the sequences and return it\n",
    "    train_data, train_targets =  shuffle_data(train, train_targets)\n",
    "    valid_data, valid_targets = shuffle_data(valid, valid_targets)\n",
    "    test_data, test_targets = shuffle_data(test, test_targets)\n",
    "    \n",
    "    return train_data, train_targets, valid_data, valid_targets, test_data, test_targets"
   ]
  },
  {
   "cell_type": "code",
   "execution_count": null,
   "metadata": {},
   "outputs": [],
   "source": [
    "np.random.seed(988754)\n",
    "l = 7\n",
    "N = 80\n",
    "human_dataset_file = '../data/human-l-%d-N-%d.dataset'%(l, N)\n",
    "droso_dataset_file = '../data/droso-l-%d-N-%d.dataset'%(l, N)\n",
    "labels = [0, 1]\n",
    "train_data, train_targets,\\\n",
    "valid_data, valid_targets,\\\n",
    "test_data, test_targets = prepare_data([human_dataset_file,\n",
    "                                   droso_dataset_file], labels, 80, 80000, 10000, 10000)"
   ]
  },
  {
   "cell_type": "markdown",
   "metadata": {},
   "source": [
    "## Drosophila versus Human\n",
    "The first case I want to study is whether the Drosophila and Human genomes can be distinguished or not. This case is probably easier than when including the Mouse genome."
   ]
  },
  {
   "cell_type": "code",
   "execution_count": null,
   "metadata": {},
   "outputs": [],
   "source": [
    "# define the model\n",
    "dvh_model = Sequential()\n",
    "dvh_model.add(Embedding(4**l, 128))\n",
    "dvh_model.add(LSTM(128, dropout=0.2, recurrent_dropout=0.2))\n",
    "dvh_model.add(Dense(1, activation='sigmoid'))"
   ]
  },
  {
   "cell_type": "code",
   "execution_count": null,
   "metadata": {},
   "outputs": [],
   "source": [
    "dvh_model.compile(loss='binary_crossentropy',\n",
    "              optimizer='adam',\n",
    "              metrics=['accuracy'])"
   ]
  },
  {
   "cell_type": "code",
   "execution_count": null,
   "metadata": {},
   "outputs": [],
   "source": [
    "checkpointer = ModelCheckpoint(filepath='weights.best.dvh.hdf5', \n",
    "                               verbose=1, save_best_only=True)\n",
    "dvh_model.fit(train_data, train_targets,\n",
    "          batch_size=32,\n",
    "          epochs=2,\n",
    "          validation_data=(valid_data, valid_targets),\n",
    "          callbacks=[checkpointer])"
   ]
  },
  {
   "cell_type": "code",
   "execution_count": null,
   "metadata": {},
   "outputs": [],
   "source": [
    "score, acc = dvh_model.evaluate(test_data, test_targets,\n",
    "                            batch_size=32,\n",
    "                            verbose=2)\n",
    "print('Test score:', score)\n",
    "print('Test accuracy:', acc)"
   ]
  },
  {
   "cell_type": "markdown",
   "metadata": {},
   "source": [
    "This is quite incredible! We achieved 98% accuracy from the test set! We are really able to distinguish between Drosophila and Human based on this method.\n",
    "\n",
    "Which makes me wonder... what makes Drosophila and Human genomes so different?"
   ]
  },
  {
   "cell_type": "code",
   "execution_count": null,
   "metadata": {},
   "outputs": [],
   "source": [
    "human_train = train_data[train_targets == 0]\n",
    "droso_train = train_data[train_targets == 1]"
   ]
  },
  {
   "cell_type": "code",
   "execution_count": null,
   "metadata": {},
   "outputs": [],
   "source": [
    "human_hist = np.histogram(human_train.flatten(), bins=np.arange(0,4**l+1,1))[0]\n",
    "droso_hist = np.histogram(droso_train.flatten(), bins=np.arange(0,4**l+1,1))[0]"
   ]
  },
  {
   "cell_type": "code",
   "execution_count": null,
   "metadata": {},
   "outputs": [],
   "source": [
    "fig, axes = plt.subplots(2, 1, figsize=(10,5))\n",
    "axes[0].semilogy(human_hist)\n",
    "axes[1].semilogy(droso_hist)\n",
    "axes[0].set_ylabel(\"Human\")\n",
    "axes[1].set_ylabel(\"Droso\")\n",
    "plt.show()"
   ]
  },
  {
   "cell_type": "markdown",
   "metadata": {},
   "source": [
    "So by looking at this graph we can see that the 4^7 = 16384 different 7-nucleotide \"words\" that compose the \"dictionary\" that we are currently using are used in a very different way in the two species. This has to do with DNA methylation. In Drosophila, there is no DNA methylation, whereas in humans almost all the \"CG\" dinucleotides are methylated, and over evolutionary timescales they convert to TG dinucleotide steps."
   ]
  },
  {
   "cell_type": "code",
   "execution_count": null,
   "metadata": {},
   "outputs": [],
   "source": [
    "least_frequent_sequence_human = human_hist.argmin()\n",
    "most_frequent_sequence_human = human_hist.argmax()\n",
    "print(sequence_decode(least_frequent_sequence_human, number_to_base, base=4, length=7))\n",
    "print(sequence_decode(most_frequent_sequence_human, number_to_base, base=4, length=7))"
   ]
  },
  {
   "cell_type": "markdown",
   "metadata": {},
   "source": [
    "## Drosophila vs Human vs Mouse\n",
    "Now another question we might ask is whether we can distinguish between Drosophila, Human, and Mouse genomes with the same method."
   ]
  },
  {
   "cell_type": "code",
   "execution_count": null,
   "metadata": {},
   "outputs": [],
   "source": [
    "np.random.seed(3549887)\n",
    "l = 7\n",
    "N = 80\n",
    "human_dataset_file = '../data/human-l-%d-N-%d.dataset'%(l, N)\n",
    "droso_dataset_file = '../data/droso-l-%d-N-%d.dataset'%(l, N)\n",
    "mouse_dataset_file = '../data/mouse-l-%d-N-%d.dataset'%(l, N)\n",
    "labels = [0, 1, 2]\n",
    "train_data, train_targets,\\\n",
    "valid_data, valid_targets,\\\n",
    "test_data, test_targets = prepare_data([human_dataset_file,\n",
    "                                   droso_dataset_file,\n",
    "                                   mouse_dataset_file], labels, 80, 80000, 10000, 10000)"
   ]
  },
  {
   "cell_type": "markdown",
   "metadata": {},
   "source": [
    "Since now we're dealing with more than two categories, we have to encode our data into one-hot format, and use the \"categorical_crossentropy\" loss function."
   ]
  },
  {
   "cell_type": "code",
   "execution_count": null,
   "metadata": {},
   "outputs": [],
   "source": [
    "train_targets_onehot = to_categorical(train_targets, len(labels))\n",
    "valid_targets_onehot = to_categorical(valid_targets, len(labels))\n",
    "test_targets_onehot = to_categorical(test_targets, len(labels))"
   ]
  },
  {
   "cell_type": "code",
   "execution_count": null,
   "metadata": {},
   "outputs": [],
   "source": [
    "# define the model\n",
    "dmh_model = Sequential()\n",
    "dmh_model.add(Embedding(4**l, 128))\n",
    "dmh_model.add(LSTM(128, dropout=0.2, recurrent_dropout=0.2))\n",
    "dmh_model.add(Dense(len(labels), activation='sigmoid'))"
   ]
  },
  {
   "cell_type": "code",
   "execution_count": null,
   "metadata": {},
   "outputs": [],
   "source": [
    "dmh_model.compile(loss='categorical_crossentropy',\n",
    "              optimizer='adam',\n",
    "              metrics=['accuracy'])"
   ]
  },
  {
   "cell_type": "code",
   "execution_count": null,
   "metadata": {},
   "outputs": [],
   "source": [
    "checkpointer = ModelCheckpoint(filepath='weights.best.dmh.hdf5', \n",
    "                               verbose=1, save_best_only=True)\n",
    "dmh_model.fit(train_data, train_targets_onehot,\n",
    "          batch_size=32,\n",
    "          epochs=10,\n",
    "          validation_data=(valid_data, valid_targets_onehot),\n",
    "          callbacks=[checkpointer])"
   ]
  },
  {
   "cell_type": "code",
   "execution_count": null,
   "metadata": {},
   "outputs": [],
   "source": [
    "score, acc = dmh_model.evaluate(test_data, test_targets_onehot,\n",
    "                            batch_size=32,\n",
    "                            verbose=2)\n",
    "print('Test score:', score)\n",
    "print('Test accuracy:', acc)"
   ]
  }
 ],
 "metadata": {
  "kernelspec": {
   "display_name": "Python 3",
   "language": "python",
   "name": "vpython3"
  },
  "language_info": {
   "codemirror_mode": {
    "name": "ipython",
    "version": 3
   },
   "file_extension": ".py",
   "mimetype": "text/x-python",
   "name": "python",
   "nbconvert_exporter": "python",
   "pygments_lexer": "ipython3"
  }
 },
 "nbformat": 4,
 "nbformat_minor": 2
}
