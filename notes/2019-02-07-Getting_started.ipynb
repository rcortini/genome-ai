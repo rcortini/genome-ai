{
 "cells": [
  {
   "cell_type": "markdown",
   "metadata": {},
   "source": [
    "# 2019-02-07 Getting started\n",
    "The purpose is to build an Artificial Intelligence that is capable of discovering which genome a particular sequence belongs to.\n",
    "\n",
    "I will start from a test case: Drosophila versus Human. I have on my computer the Drosophila and Human genomes downloaded."
   ]
  },
  {
   "cell_type": "code",
   "execution_count": null,
   "metadata": {},
   "outputs": [],
   "source": [
    "import numpy as np\n",
    "from tqdm import tqdm"
   ]
  },
  {
   "cell_type": "code",
   "execution_count": null,
   "metadata": {},
   "outputs": [],
   "source": [
    "# will use biophython to deal with biological sequences\n",
    "from Bio import SeqIO, Seq\n",
    "from Bio.Alphabet import IUPAC"
   ]
  },
  {
   "cell_type": "code",
   "execution_count": null,
   "metadata": {},
   "outputs": [],
   "source": [
    "# load human genome\n",
    "hg38_genome_file = '/mnt/shared/seq/GRCh38/hg38.fasta'\n",
    "h38 = SeqIO.index(hg38_genome_file,'fasta', alphabet=IUPAC.unambiguous_dna)\n",
    "h38_chromosomes = [k for k in h38.keys()]"
   ]
  },
  {
   "cell_type": "code",
   "execution_count": null,
   "metadata": {},
   "outputs": [],
   "source": [
    "# load drosophila genome\n",
    "dm4R6_genome_file = '/mnt/shared/seq/dm4R6/dmel-all-chromosome-r6.04.fasta'\n",
    "dm4R6 = SeqIO.index(dm4R6_genome_file,'fasta', alphabet=IUPAC.unambiguous_dna)\n",
    "dm4R6_chromosomes = [k for k in dm4R6.keys()]"
   ]
  },
  {
   "cell_type": "markdown",
   "metadata": {},
   "source": [
    "We need a function that extracts a random sequence of nucleotides."
   ]
  },
  {
   "cell_type": "code",
   "execution_count": null,
   "metadata": {},
   "outputs": [],
   "source": [
    "def get_random_sequence(genome, chromosomes, l, N) :\n",
    "    \"\"\"\n",
    "    Get a random sequence of nucleotides from the genome. It will\n",
    "    be a sequence of N words of l letters.\n",
    "    \"\"\"\n",
    "    \n",
    "    # first, pick a random chromosome\n",
    "    chromosome = genome[np.random.choice(chromosomes)]\n",
    "    \n",
    "    # then pick a random spot in the chromosome\n",
    "    found = False\n",
    "    chromosome_size = len(chromosome.seq)\n",
    "    while not found :\n",
    "        start = np.random.choice(chromosome_size)\n",
    "        myseq = chromosome.seq[start:start+l*N]\n",
    "        \n",
    "        # here we take care that there are no 'N's in the sequence,\n",
    "        # and that the length of the sequence is good\n",
    "        if 'N' not in myseq and len(myseq)==l*N :\n",
    "            found = True\n",
    "    s = str(myseq).upper()\n",
    "    return [s[0+i:l+i] for i in range(0, l*N, l)]"
   ]
  },
  {
   "cell_type": "markdown",
   "metadata": {},
   "source": [
    "We then need a function that takes a sequence and encodes for a number."
   ]
  },
  {
   "cell_type": "code",
   "execution_count": null,
   "metadata": {},
   "outputs": [],
   "source": [
    "def sequence_encoder(sequence, mapping) :\n",
    "    l = len(sequence)\n",
    "    return np.sum([4**(l-i-1)*mapping[sequence[i]] for i in range(l)])"
   ]
  },
  {
   "cell_type": "code",
   "execution_count": null,
   "metadata": {},
   "outputs": [],
   "source": [
    "l = 4\n",
    "N = 10\n",
    "s = get_random_sequence(dm4R6, dm4R6_chromosomes, l, N)"
   ]
  },
  {
   "cell_type": "code",
   "execution_count": null,
   "metadata": {},
   "outputs": [],
   "source": [
    "mapping = {\n",
    "    'A' : 0,\n",
    "    'T' : 1,\n",
    "    'C' : 2,\n",
    "    'G' : 3\n",
    "}"
   ]
  },
  {
   "cell_type": "code",
   "execution_count": null,
   "metadata": {},
   "outputs": [],
   "source": [
    "sequence_encoder('AAAAAA', mapping)"
   ]
  },
  {
   "cell_type": "markdown",
   "metadata": {},
   "source": [
    "## Generate data\n",
    "We now want to generate the data that we will use for training the network."
   ]
  },
  {
   "cell_type": "code",
   "execution_count": null,
   "metadata": {},
   "outputs": [],
   "source": [
    "ndata = 100000\n",
    "l = 7\n",
    "N = 80\n",
    "human_fname = '../data/human.dataset'\n",
    "droso_fname = '../data/droso.dataset'\n",
    "fh = open(human_fname, 'w')\n",
    "fd = open(droso_fname, 'w')\n",
    "for n in tqdm(range(ndata)) :\n",
    "    human_seq = get_random_sequence(h38, h38_chromosomes, l, N)\n",
    "    droso_seq = get_random_sequence(dm4R6, dm4R6_chromosomes, l, N)\n",
    "    for i in range(N) :\n",
    "        fh.write('%d\\t'%(sequence_encoder(human_seq[i], mapping)))\n",
    "        fd.write('%d\\t'%(sequence_encoder(droso_seq[i], mapping)))\n",
    "    fh.write('\\n')\n",
    "    fd.write('\\n')\n",
    "fh.close()\n",
    "fd.close()"
   ]
  },
  {
   "cell_type": "code",
   "execution_count": null,
   "metadata": {},
   "outputs": [],
   "source": [
    "sequence_encoder('CGAG', mapping)"
   ]
  }
 ],
 "metadata": {
  "kernelspec": {
   "display_name": "Python 3",
   "language": "python",
   "name": "vpython3"
  },
  "language_info": {
   "codemirror_mode": {
    "name": "ipython",
    "version": 3
   },
   "file_extension": ".py",
   "mimetype": "text/x-python",
   "name": "python",
   "nbconvert_exporter": "python",
   "pygments_lexer": "ipython3"
  }
 },
 "nbformat": 4,
 "nbformat_minor": 2
}
